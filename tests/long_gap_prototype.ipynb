{
 "cells": [
  {
   "cell_type": "code",
   "execution_count": null,
   "id": "454fd0d7-f6f1-42a4-8a2d-0fbbadfa55fc",
   "metadata": {},
   "outputs": [],
   "source": [
    "%matplotlib inline\n",
    "import skmob\n",
    "import pandas as pd\n",
    "import skmob.measures.individual as ind_measure\n",
    "import torch\n",
    "import gpytorch\n",
    "from gpytorch.kernels import RQKernel as RQ, RBFKernel as SE, \\\n",
    "PeriodicKernel as PER, ScaleKernel, LinearKernel as LIN, MaternKernel as MAT, \\\n",
    "SpectralMixtureKernel as SMK, PiecewisePolynomialKernel as PPK, CylindricalKernel as CYL\n",
    "import numpy as np\n",
    "import matplotlib\n",
    "from matplotlib import pyplot as plt\n",
    "from sklearn.preprocessing import StandardScaler, MinMaxScaler\n",
    "from sklearn.metrics import mean_squared_error\n",
    "from gpytorch.constraints import Interval\n",
    "import time\n",
    "\n",
    "# Import intra-package scripts\n",
    "import utils.helper_func as helper_func\n",
    "import utils.GP as GP\n",
    "import mobileDataToolkit.analysis as analysis\n",
    "import mobileDataToolkit.preprocessing_v2 as preprocessing\n",
    "import mobileDataToolkit.methods as methods\n",
    "import mobileDataToolkit.metrics as metrics\n",
    "\n",
    "import warnings\n",
    "warnings.filterwarnings('ignore')"
   ]
  },
  {
   "attachments": {},
   "cell_type": "markdown",
   "id": "6e6fbb88-5cf2-4d47-8032-765e3045789d",
   "metadata": {},
   "source": [
    "## Reading Data"
   ]
  },
  {
   "cell_type": "code",
   "execution_count": null,
   "id": "9ad12afc",
   "metadata": {},
   "outputs": [],
   "source": [
    "training_index = None"
   ]
  },
  {
   "cell_type": "code",
   "execution_count": null,
   "id": "fc180c78-ba14-44e5-9b37-4e7aaf1c3298",
   "metadata": {},
   "outputs": [],
   "source": [
    "file_path = \"C:\\\\Users\\\\ekino\\\\OneDrive - UW\\\\GPR\\\\Data\\\\seattle_2000_all_obs_preprocessed_sampled.csv\"\n",
    "\n",
    "d1 = preprocessing.dp_MultiTrip(file_path=file_path, random_state=8765765)\n",
    "d1.chooseUser(d1.data.UID.unique()[0])"
   ]
  },
  {
   "cell_type": "code",
   "execution_count": null,
   "id": "e571c691-a62b-4bfa-98c7-c75acba1c087",
   "metadata": {},
   "outputs": [],
   "source": [
    "d1.data.columns"
   ]
  },
  {
   "attachments": {},
   "cell_type": "markdown",
   "id": "19208364-ed95-4013-be10-0e5700241ba8",
   "metadata": {},
   "source": [
    "## Adding \"DateTime\" column, subsetting by a timeframe"
   ]
  },
  {
   "cell_type": "code",
   "execution_count": null,
   "id": "6392cdf5-48b1-492f-9c07-1855a5d12042",
   "metadata": {
    "tags": []
   },
   "outputs": [],
   "source": [
    "d1.data['datetime'] = pd.to_datetime(d1.data['datetime'])\n",
    "\n",
    "d1.subsetByTime('01/18/2020 00:00', '02/07/2020 00:00')\n",
    "\n",
    "d1.Multi_Trip_Preprocess()"
   ]
  },
  {
   "cell_type": "code",
   "execution_count": null,
   "id": "e9a63ed2-1242-4b55-8b87-d48d5cea0d34",
   "metadata": {},
   "outputs": [],
   "source": [
    "d1.data.columns"
   ]
  },
  {
   "attachments": {},
   "cell_type": "markdown",
   "id": "74bc42dc-6c84-4ffc-b82f-284d70b14975",
   "metadata": {},
   "source": [
    "#### Add distance and velocity columns, determine home location"
   ]
  },
  {
   "cell_type": "code",
   "execution_count": null,
   "id": "8741f3be-5a73-41ca-84e1-5c484ebe53d9",
   "metadata": {},
   "outputs": [],
   "source": [
    "helper_func.addDist(d1.data)\n",
    "helper_func.addVel(d1.data)\n",
    "home_lat, home_lon = methods.homeLoc(d1.data)"
   ]
  },
  {
   "cell_type": "code",
   "execution_count": null,
   "id": "ab4abc78-eb81-43c3-92d4-cc0b0410e711",
   "metadata": {},
   "outputs": [],
   "source": [
    "d1.data['vel'].describe()"
   ]
  },
  {
   "cell_type": "code",
   "execution_count": null,
   "id": "4b116d1a-7e92-4148-851f-34cdec26daae",
   "metadata": {},
   "outputs": [],
   "source": [
    "d1.data['dist'].describe()"
   ]
  },
  {
   "attachments": {},
   "cell_type": "markdown",
   "id": "48ce352a",
   "metadata": {},
   "source": [
    "Choose 45.0 as the diff we want to achieve"
   ]
  },
  {
   "attachments": {},
   "cell_type": "markdown",
   "id": "dd3a0421-cde2-4501-9d8e-c8aa98e4614b",
   "metadata": {},
   "source": [
    "## Further Preprocessing: Filtering, compression, stay location detection, and stay location clustering"
   ]
  },
  {
   "cell_type": "code",
   "execution_count": null,
   "id": "e5e635a9-77d6-4fb6-900d-c652331699c6",
   "metadata": {},
   "outputs": [],
   "source": [
    "%%time\n",
    "tdf = skmob.TrajDataFrame(d1.data, latitude='orig_lat', longitude='orig_long', datetime='Date_Time')\n",
    "f_tdf = skmob.preprocessing.filtering.filter(tdf, max_speed_kmh=400, include_loops=True)\n",
    "fc_tdf = skmob.preprocessing.compression.compress(f_tdf, spatial_radius_km=0.1) # vary the spatial radius to see how prediction changes"
   ]
  },
  {
   "cell_type": "code",
   "execution_count": null,
   "id": "1bf482b6-fb93-4fb0-8cb2-0bceb19b74a1",
   "metadata": {},
   "outputs": [],
   "source": [
    "n_deleted_points = len(tdf) - len(f_tdf) # number of deleted points during filtering\n",
    "print(n_deleted_points)"
   ]
  },
  {
   "cell_type": "code",
   "execution_count": null,
   "id": "f02b1bde-c23a-4280-8b69-b546566d6f97",
   "metadata": {},
   "outputs": [],
   "source": [
    "n_deleted_points = len(f_tdf) - len(fc_tdf) # number of deleted points during compression\n",
    "n_deleted_points / len(d1.data)"
   ]
  },
  {
   "cell_type": "code",
   "execution_count": null,
   "id": "faba53cb",
   "metadata": {},
   "outputs": [],
   "source": [
    "fc_tdf.columns"
   ]
  },
  {
   "attachments": {},
   "cell_type": "markdown",
   "id": "a50cad33-46c0-4a6e-a66f-479891c6c69f",
   "metadata": {},
   "source": [
    "## Train/Test Split"
   ]
  },
  {
   "cell_type": "code",
   "execution_count": null,
   "id": "c06c5ab4",
   "metadata": {},
   "outputs": [],
   "source": [
    "# Move unix_min column (7th index) to before SaM column (15th index)\n",
    "cols = list(fc_tdf.columns)\n",
    "cols = cols[:8] + cols[15:16] + cols[8:15] + cols[16:]\n",
    "fc_tdf = fc_tdf[cols]\n",
    "\n",
    "fc_tdf.columns"
   ]
  },
  {
   "cell_type": "code",
   "execution_count": null,
   "id": "e82224a7-6900-45dd-86eb-1b8c6943a4e6",
   "metadata": {},
   "outputs": [],
   "source": [
    "#d1.Multi_Trip_TrainTestSplit('2020-02-01 00:00', '2020-02-07 00:00')\n",
    "df = preprocessing.dp_MultiTrip(data=fc_tdf)\n",
    "\n",
    "df.Multi_Trip_TrainTestSplit(test_start_date='2020-02-01 00:00', test_end_date='2020-02-07 00:00', lat='lat', long='lng', inputend='day_6', training_index=None)"
   ]
  },
  {
   "cell_type": "code",
   "execution_count": null,
   "id": "a7654f6d-afd0-47c7-9106-02fa49907b8e",
   "metadata": {},
   "outputs": [],
   "source": [
    "unix_min_tr = np.array(df.X_train[:,0]).astype(int)\n",
    "unix_min_te = np.array(df.X_test[:,0]).astype(int)"
   ]
  },
  {
   "attachments": {},
   "cell_type": "markdown",
   "id": "be57c0da-c7ad-4401-87f1-50fdc36d1deb",
   "metadata": {},
   "source": [
    "### Normalize data (min-max)"
   ]
  },
  {
   "cell_type": "code",
   "execution_count": null,
   "id": "6ad3bf92-68d5-43a7-a17c-97381c8a55a5",
   "metadata": {},
   "outputs": [],
   "source": [
    "scaler = StandardScaler()\n",
    "y_train_scaled = torch.tensor(np.float64(scaler.fit_transform(df.y_train)))\n",
    "y_test_scaled = torch.tensor(np.float64(scaler.transform(df.y_test)))\n",
    "\n",
    "n_dims = df.X_train.shape[1]"
   ]
  },
  {
   "cell_type": "code",
   "execution_count": null,
   "id": "feee0ab9",
   "metadata": {},
   "outputs": [],
   "source": [
    "model = GP.MTGPRegressor(df.X_train, y_train_scaled, ScaleKernel( RQ(ard_num_dims = n_dims) * PER(active_dims=torch.tensor([0]))) + ScaleKernel(RQ(ard_num_dims = n_dims) * PER(active_dims=torch.tensor([0]))))"
   ]
  },
  {
   "cell_type": "code",
   "execution_count": null,
   "id": "7fe86496",
   "metadata": {},
   "outputs": [],
   "source": [
    "init_period_len_1 = 60*8 # 8 hours\n",
    "init_period_len_2 = 60*24 # 24 hours\n",
    "\n",
    "# Set initial lengthscale guess as half the average length of gap in training set\n",
    "init_lengthscale = df.data[df.data['unix_min'].isin(set(df.data['unix_min']))]['unix_min'].diff().mean() / 2 \n",
    "initializations = np.ones(n_dims - 1)\n",
    "initializations = np.insert(initializations, 0, init_lengthscale)\n",
    "model.covar_module.data_covar_module.kernels[0].base_kernel.kernels[0].lengthscale = initializations\n",
    "model.covar_module.data_covar_module.kernels[1].base_kernel.kernels[0].lengthscale = initializations\n",
    "\n",
    "# Set initial period lengths\n",
    "model.covar_module.data_covar_module.kernels[0].base_kernel.kernels[1].period_length = init_period_len_1\n",
    "model.covar_module.data_covar_module.kernels[1].base_kernel.kernels[1].period_length = init_period_len_2"
   ]
  },
  {
   "cell_type": "code",
   "execution_count": null,
   "id": "e83d438f",
   "metadata": {},
   "outputs": [],
   "source": [
    "%%time\n",
    "ls, mll = GP.training(model, df.X_train, y_train_scaled, n_epochs=100, lr=0.1, verbose=True)"
   ]
  },
  {
   "cell_type": "code",
   "execution_count": null,
   "id": "7655f21d",
   "metadata": {},
   "outputs": [],
   "source": [
    "# Plot the loss curve\n",
    "plt.plot(ls)\n",
    "plt.xlabel('Epoch')\n",
    "plt.ylabel('Loss')\n",
    "plt.show()"
   ]
  },
  {
   "attachments": {},
   "cell_type": "markdown",
   "id": "e683ba2f-aead-456b-b278-eba81f6edaba",
   "metadata": {},
   "source": [
    "## Temporal Occupancy"
   ]
  },
  {
   "cell_type": "code",
   "execution_count": null,
   "id": "2ba71f1f-f822-4b5c-900e-fa2a70fb05af",
   "metadata": {},
   "outputs": [],
   "source": [
    "test_TO = analysis.tempOcp(df.test, bin_len=20)\n",
    "test_TO"
   ]
  },
  {
   "attachments": {},
   "cell_type": "markdown",
   "id": "10a620c5-c14f-4b37-99f6-fadb015f71c2",
   "metadata": {},
   "source": [
    "## Defining the model"
   ]
  },
  {
   "cell_type": "code",
   "execution_count": null,
   "id": "bef6e09c",
   "metadata": {},
   "outputs": [],
   "source": [
    "X_train = torch.tensor(df.X_train).float()\n",
    "X_test = torch.tensor(df.X_test).float()\n",
    "y_train = torch.tensor(df.y_train).float()\n",
    "y_test = torch.tensor(df.y_test).float()"
   ]
  },
  {
   "cell_type": "code",
   "execution_count": null,
   "id": "dce07d78-602f-45d2-8931-19867bb94906",
   "metadata": {},
   "outputs": [],
   "source": [
    "n_dims = X_train.shape[1]\n",
    "\n",
    "model = GP.MTGPRegressor(X_train, y_train, ScaleKernel( RQ(ard_num_dims = n_dims) * PER(active_dims=torch.tensor([0]))) + ScaleKernel(RQ(ard_num_dims = n_dims) * PER(active_dims=torch.tensor([0]))))"
   ]
  },
  {
   "attachments": {},
   "cell_type": "markdown",
   "id": "c6dde995-7c66-4afc-801d-be82425a58fc",
   "metadata": {},
   "source": [
    "### Initializiaing the model (without normalization)"
   ]
  },
  {
   "cell_type": "code",
   "execution_count": null,
   "id": "5a58fbff",
   "metadata": {},
   "outputs": [],
   "source": [
    "init_period_len_1 = 60*8 # 8 hours\n",
    "init_period_len_2 = 60*24 # 24 hours\n",
    "\n",
    "# Set initial lengthscale guess as half the average length of gap in training set\n",
    "init_lengthscale = df.data[df.data['unix_min'].isin(set(df.data['unix_min']))]['unix_min'].diff().mean() / 2 \n",
    "initializations = np.ones(n_dims - 1)\n",
    "initializations = np.insert(initializations, 0, init_lengthscale)\n",
    "model.covar_module.data_covar_module.kernels[0].base_kernel.kernels[0].lengthscale = initializations\n",
    "model.covar_module.data_covar_module.kernels[1].base_kernel.kernels[0].lengthscale = initializations\n",
    "\n",
    "# Set initial period lengths\n",
    "model.covar_module.data_covar_module.kernels[0].base_kernel.kernels[1].period_length = init_period_len_1\n",
    "model.covar_module.data_covar_module.kernels[1].base_kernel.kernels[1].period_length = init_period_len_2"
   ]
  },
  {
   "cell_type": "code",
   "execution_count": null,
   "id": "08b67764-e4f0-4140-aa31-9f660d54f8a5",
   "metadata": {},
   "outputs": [],
   "source": [
    "%%time\n",
    "ls, mll = GP.training(model, X_train, y_train, n_epochs=100, lr=0.1, verbose=True)"
   ]
  },
  {
   "cell_type": "code",
   "execution_count": null,
   "id": "4a8ee237",
   "metadata": {},
   "outputs": [],
   "source": [
    "# Plot the loss curve\n",
    "plt.plot(ls)\n",
    "plt.xlabel('Epoch')\n",
    "plt.ylabel('Loss')\n",
    "plt.show()"
   ]
  },
  {
   "cell_type": "code",
   "execution_count": null,
   "id": "9f4d21dd-6c4d-4370-ba3c-ce4f4883e6b6",
   "metadata": {},
   "outputs": [],
   "source": [
    "with torch.no_grad():\n",
    "    log_ll = mll(model(X_train), y_train) * X_train.shape[0]\n",
    "            \n",
    "N = X_train.shape[0]\n",
    "m = sum(p.numel() for p in model.hyperparameters())\n",
    "bic = -2 * log_ll + m * np.log(N)"
   ]
  },
  {
   "cell_type": "code",
   "execution_count": null,
   "id": "37c3a80a-5c96-4d71-8d50-d17d000f7a33",
   "metadata": {},
   "outputs": [],
   "source": [
    "predictions, mean = model.predict(X_test)"
   ]
  },
  {
   "cell_type": "code",
   "execution_count": null,
   "id": "72d0ebfd-694d-467b-9f7a-3cad40a0451a",
   "metadata": {},
   "outputs": [],
   "source": [
    "model.plot_preds(mean, date_train, date_test, y_train, y_test)"
   ]
  },
  {
   "cell_type": "code",
   "execution_count": null,
   "id": "8056b11b-e944-4371-9458-dd10e9239491",
   "metadata": {},
   "outputs": [],
   "source": [
    "f, (ax1, ax2) = plt.subplots(2, 1, constrained_layout = True)\n",
    "ax1.plot(range(len(y_train[:,0])), y_train[:,0], label='train', linewidth=2)\n",
    "ax1.plot(range(len(y_train[:,0]), len(y_train[:,0])+len(y_test[:,0])), y_test[:,0], label='test', linewidth=2)\n",
    "ax1.plot(range(len(y_train[:,0]), len(y_train[:,0])+len(mean[:,0])), mean[:,0], label='pred', linewidth=3)\n",
    "\n",
    "ax2.plot(range(len(y_train[:,1])), y_train[:,1], label='train', linewidth=2)\n",
    "ax2.plot(range(len(y_train[:,1]), len(y_train[:,1])+len(y_test[:,1])), y_test[:,1], label='test', linewidth=2)\n",
    "ax2.plot(range(len(y_train[:,1]), len(y_train[:,1])+len(mean[:,1])), mean[:,1], label='pred', linewidth=3)\n",
    "\n",
    "#ax1.legend()\n",
    "plt.show()"
   ]
  },
  {
   "cell_type": "code",
   "execution_count": null,
   "id": "f5e9c96c-eba9-4e14-a3c5-1a038715ff7d",
   "metadata": {},
   "outputs": [],
   "source": [
    "metrics.average_eval(pd.Series(y_test[:,0]), pd.Series(y_test[:,1]), pd.Series(mean[:,0]), pd.Series(mean[:,1]))"
   ]
  },
  {
   "attachments": {},
   "cell_type": "markdown",
   "id": "cf0762a8-3c73-4a70-87ae-ee78bafa639c",
   "metadata": {},
   "source": [
    "### Benchmarking"
   ]
  },
  {
   "cell_type": "code",
   "execution_count": null,
   "id": "1356cd21-00ca-4efa-9ca9-97d3eb36b99a",
   "metadata": {},
   "outputs": [],
   "source": [
    "from statsmodels.tsa.holtwinters import Holt\n",
    "from statsmodels.tsa.arima.model import ARIMA\n",
    "from statsmodels.tsa.holtwinters import SimpleExpSmoothing\n",
    "from statsmodels.tsa.holtwinters import ExponentialSmoothing\n",
    "from statsmodels.tsa.statespace.sarimax import SARIMAX"
   ]
  },
  {
   "cell_type": "code",
   "execution_count": null,
   "id": "9f2cd018-27d2-46ba-aaa6-5843420dba11",
   "metadata": {},
   "outputs": [],
   "source": [
    "lat = pd.Series(y_train[:,0].tolist(), unix_min_tr)\n",
    "lat_t = pd.Series(y_test[:,0].tolist(), unix_min_te)\n",
    "# Replace duplicates (in time) with the mean of the two values\n",
    "lat = lat.groupby(lat.index).mean().reset_index()\n",
    "lat = pd.Series(lat[0].tolist(), lat['index'].tolist())\n",
    "lat_tc = lat_t.groupby(lat_t.index).mean().reset_index()\n",
    "lat_tc = pd.Series(lat_tc[0].tolist(), lat_tc['index'].tolist())\n",
    "# Replace zeroes with positives close to zero\n",
    "lat.replace(0, 0.000000001, inplace=True)\n",
    "\n",
    "\n",
    "lon = pd.Series(y_train[:,1].tolist(), unix_min_tr)\n",
    "lon_t = pd.Series(y_test[:,1].tolist(),unix_min_te)\n",
    "# Replace duplicates (in time) with the mean of the two values\n",
    "lon = lon.groupby(lon.index).mean().reset_index()\n",
    "lon = pd.Series(lon[0].tolist(), lon['index'].tolist())\n",
    "lon_tc = lon_t.groupby(lon_t.index).mean().reset_index()\n",
    "lon_tc = pd.Series(lon_tc[0].tolist(), lon_tc['index'].tolist())\n",
    "# Replace zeroes with positives close to zero\n",
    "lon.replace(0, 0.000000001, inplace=True)"
   ]
  },
  {
   "attachments": {},
   "cell_type": "markdown",
   "id": "d5bc34dd-a992-41ad-a785-7942f9efc323",
   "metadata": {},
   "source": [
    "### SimpleExpSmoothing\n",
    "`smoothing_level = 0.1`"
   ]
  },
  {
   "cell_type": "code",
   "execution_count": null,
   "id": "36877f73-73b5-49db-9931-f56d7fdac2d1",
   "metadata": {
    "collapsed": true,
    "jupyter": {
     "outputs_hidden": true
    },
    "tags": []
   },
   "outputs": [],
   "source": [
    "smoothing_level = 0.1\n",
    "ses_lat = SimpleExpSmoothing(lat, initialization_method=\"heuristic\").fit(smoothing_level=smoothing_level, optimized=True)\n",
    "pred_lat = ses_lat.predict(start=lat_tc.index[0], end=lat_tc.index[-1])\n",
    "pred_lat_comp = pred_lat[pred_lat.index.isin(unix_min_te)]\n",
    "\n",
    "ses_lon = SimpleExpSmoothing(lon, initialization_method=\"heuristic\").fit(smoothing_level=smoothing_level, optimized=True)\n",
    "pred_lon = ses_lon.predict(start=lon_tc.index[0], end=lon_tc.index[-1])\n",
    "pred_lon_comp = pred_lon[pred_lon.index.isin(unix_min_te)]"
   ]
  },
  {
   "cell_type": "code",
   "execution_count": null,
   "id": "96d1f863-53b0-4c77-8f8f-efe7683faa8e",
   "metadata": {},
   "outputs": [],
   "source": [
    "f, (ax1, ax2) = plt.subplots(2, 1, constrained_layout = True)\n",
    "ax1.plot(range(len(lat)), lat, label='train', linewidth=2)\n",
    "ax1.plot(range(len(lat), len(lat)+len(lat_tc)), lat_tc, label='test', linewidth=2)\n",
    "ax1.plot(range(len(lat), len(lat)+len(pred_lat_comp)), pred_lat_comp, label='pred', linewidth=3)\n",
    "\n",
    "ax2.plot(range(len(lon)), lon, label='train', linewidth=2)\n",
    "ax2.plot(range(len(lon), len(lon)+len(lon_tc)), lon_tc, label='test', linewidth=2)\n",
    "ax2.plot(range(len(lon), len(lon)+len(pred_lon_comp)), pred_lon_comp, label='pred', linewidth=3)\n",
    "\n",
    "#ax1.legend()\n",
    "plt.show()"
   ]
  },
  {
   "cell_type": "code",
   "execution_count": null,
   "id": "b3d22e13-3790-48c0-b141-2092c0b1532b",
   "metadata": {},
   "outputs": [],
   "source": [
    "metrics.average_eval(lat_tc, lon_tc, pred_lat_comp, pred_lon_comp)"
   ]
  },
  {
   "attachments": {},
   "cell_type": "markdown",
   "id": "2dc04c85-06d3-4e5c-a4ea-4000466c3f2d",
   "metadata": {},
   "source": [
    "### Holt\n",
    "`smoothing_level_lat=0.2`\n",
    "`smoothing_slope_lat=0.045`\n",
    "\n",
    "`smoothing_level_lon=0.1`\n",
    "`smoothing_slope_lon=0.0307`"
   ]
  },
  {
   "cell_type": "code",
   "execution_count": null,
   "id": "de9dc24e-945f-41f6-b8d2-26d47ef133ec",
   "metadata": {
    "collapsed": true,
    "jupyter": {
     "outputs_hidden": true
    },
    "tags": []
   },
   "outputs": [],
   "source": [
    "smoothing_level_lat=0.2\n",
    "smoothing_slope_lat=0.045\n",
    "\n",
    "holt = Holt(lat, damped_trend=True, initialization_method=\"estimated\").fit(smoothing_level=smoothing_level_lat, smoothing_slope=smoothing_slope_lat)\n",
    "pred_lat = holt.predict(start=lat_tc.index[0], end=lat_tc.index[-1])\n",
    "pred_lat_comp = pred_lat[pred_lat.index.isin(unix_min_te)]\n",
    "\n",
    "smoothing_level_lon=0.1\n",
    "smoothing_slope_lon=0.0307\n",
    "\n",
    "holt = Holt(lon, damped_trend=True, initialization_method=\"estimated\").fit(smoothing_level=smoothing_level_lon, smoothing_slope=smoothing_slope_lon)\n",
    "pred_lon = holt.predict(start=lat_tc.index[0], end=lat_tc.index[-1])\n",
    "pred_lon_comp = pred_lon[pred_lon.index.isin(unix_min_te)]"
   ]
  },
  {
   "cell_type": "code",
   "execution_count": null,
   "id": "9678d5bc-9e91-4e6a-aa7a-68919015d938",
   "metadata": {},
   "outputs": [],
   "source": [
    "f, (ax1, ax2) = plt.subplots(2, 1, constrained_layout = True)\n",
    "ax1.plot(range(len(lat)), lat, label='train', linewidth=2)\n",
    "ax1.plot(range(len(lat), len(lat)+len(lat_tc)), lat_tc, label='test', linewidth=2)\n",
    "ax1.plot(range(len(lat), len(lat)+len(pred_lat_comp)), pred_lat_comp, label='pred', linewidth=3)\n",
    "\n",
    "ax2.plot(range(len(lon)), lon, label='train', linewidth=2)\n",
    "ax2.plot(range(len(lon), len(lon)+len(lon_tc)), lon_tc, label='test', linewidth=2)\n",
    "ax2.plot(range(len(lon), len(lon)+len(pred_lon_comp)), pred_lon_comp, label='pred', linewidth=3)\n",
    "\n",
    "#ax1.legend()\n",
    "plt.show()"
   ]
  },
  {
   "cell_type": "code",
   "execution_count": null,
   "id": "1d122c34-46bc-4f0a-9dbb-1fcfa23c5f46",
   "metadata": {},
   "outputs": [],
   "source": [
    "metrics.average_eval(lat_tc, lon_tc, pred_lat_comp, pred_lon_comp)"
   ]
  },
  {
   "attachments": {},
   "cell_type": "markdown",
   "id": "7c6d3aed-3d07-4abc-be51-163b9849d6d0",
   "metadata": {},
   "source": [
    "### Exponential Smoothing\n",
    "`seasonal_periods=36`"
   ]
  },
  {
   "cell_type": "code",
   "execution_count": null,
   "id": "bed906d0-6e02-4b2e-a9c4-990d75b75951",
   "metadata": {
    "collapsed": true,
    "jupyter": {
     "outputs_hidden": true
    },
    "tags": []
   },
   "outputs": [],
   "source": [
    "seasonal_periods=36\n",
    "\n",
    "es = ExponentialSmoothing(lat, seasonal_periods=seasonal_periods, trend='add', seasonal='add', damped_trend=True, use_boxcox=True, initialization_method='estimated').fit()\n",
    "pred_lat = es.predict(start=lat_tc.index[0], end=lat_tc.index[-1])\n",
    "pred_lat_comp = pred_lat[pred_lat.index.isin(unix_min_te)]\n",
    "\n",
    "es = ExponentialSmoothing(lon, seasonal_periods=seasonal_periods, trend='add', seasonal='add', damped_trend=True, use_boxcox=True, initialization_method='estimated').fit()\n",
    "pred_lon = es.predict(start=lon_tc.index[0], end=lon_tc.index[-1])\n",
    "pred_lon_comp = pred_lon[pred_lon.index.isin(unix_min_te)]"
   ]
  },
  {
   "cell_type": "code",
   "execution_count": null,
   "id": "63e4fc50-a821-4edf-af90-da5b6f544a3b",
   "metadata": {},
   "outputs": [],
   "source": [
    "f, (ax1, ax2) = plt.subplots(2, 1, constrained_layout = True)\n",
    "ax1.plot(range(len(lat)), lat, label='train', linewidth=2)\n",
    "ax1.plot(range(len(lat), len(lat)+len(lat_tc)), lat_tc, label='test', linewidth=2)\n",
    "ax1.plot(range(len(lat), len(lat)+len(pred_lat_comp)), pred_lat_comp, label='pred', linewidth=3)\n",
    "\n",
    "ax2.plot(range(len(lon)), lon, label='train', linewidth=2)\n",
    "ax2.plot(range(len(lon), len(lon)+len(lon_tc)), lon_tc, label='test', linewidth=2)\n",
    "ax2.plot(range(len(lon), len(lon)+len(pred_lon_comp)), pred_lon_comp, label='pred', linewidth=3)\n",
    "\n",
    "#ax1.legend()\n",
    "plt.show()"
   ]
  },
  {
   "cell_type": "code",
   "execution_count": null,
   "id": "4ba0641f-cf9c-42b6-a291-bb0d3b348481",
   "metadata": {},
   "outputs": [],
   "source": [
    "metrics.average_eval(lat_tc, lon_tc, pred_lat_comp, pred_lon_comp)"
   ]
  },
  {
   "attachments": {},
   "cell_type": "markdown",
   "id": "3d8d6773-d8c5-4f6c-ab0e-a42456d73ff8",
   "metadata": {},
   "source": [
    "### ARIMA\n",
    "`order=(2, 1, 0)`"
   ]
  },
  {
   "cell_type": "code",
   "execution_count": null,
   "id": "96349805-506c-4d42-ba07-05bd14caa89e",
   "metadata": {
    "collapsed": true,
    "jupyter": {
     "outputs_hidden": true
    },
    "tags": []
   },
   "outputs": [],
   "source": [
    "arima = ARIMA(lat, order=(1,1,0)).fit()\n",
    "pred_lat = arima.predict(start=lat_tc.index[0], end=lat_tc.index[-1])\n",
    "pred_lat_comp = pred_lat[pred_lat.index.isin(unix_min_te)]\n",
    "\n",
    "arima = ARIMA(lon, order=(1,1,0)).fit()\n",
    "pred_lon = arima.predict(start=lon_tc.index[0], end=lon_tc.index[-1])\n",
    "pred_lon_comp = pred_lon[pred_lon.index.isin(unix_min_te)]"
   ]
  },
  {
   "cell_type": "code",
   "execution_count": null,
   "id": "0c140bba-3455-4ef9-8c56-07cce18f2808",
   "metadata": {},
   "outputs": [],
   "source": [
    "f, (ax1, ax2) = plt.subplots(2, 1, constrained_layout = True)\n",
    "ax1.plot(range(len(lat)), lat, label='train', linewidth=2)\n",
    "ax1.plot(range(len(lat), len(lat)+len(lat_tc)), lat_tc, label='test', linewidth=2)\n",
    "ax1.plot(range(len(lat), len(lat)+len(pred_lat_comp)), pred_lat_comp, label='pred', linewidth=3)\n",
    "\n",
    "ax2.plot(range(len(lon)), lon, label='train', linewidth=2)\n",
    "ax2.plot(range(len(lon), len(lon)+len(lon_tc)), lon_tc, label='test', linewidth=2)\n",
    "ax2.plot(range(len(lon), len(lon)+len(pred_lon_comp)), pred_lon_comp, label='pred', linewidth=3)\n",
    "\n",
    "#ax1.legend()\n",
    "plt.show()"
   ]
  },
  {
   "cell_type": "code",
   "execution_count": null,
   "id": "fb5744a2-e5af-4439-b724-be954261aced",
   "metadata": {},
   "outputs": [],
   "source": [
    "metrics.average_eval(lat_tc, lon_tc, pred_lat_comp, pred_lon_comp)"
   ]
  },
  {
   "attachments": {},
   "cell_type": "markdown",
   "id": "4a01840c-333b-446f-ad78-11dce864c4b6",
   "metadata": {},
   "source": [
    "### SARIMAX\n",
    "`order=(1, 0, 0)`\n",
    "`seasonal_order=(1, 1, 1, 24)`"
   ]
  },
  {
   "cell_type": "code",
   "execution_count": null,
   "id": "e2c1ef0d-5cbb-4dd2-9570-00e7fca68767",
   "metadata": {
    "collapsed": true,
    "jupyter": {
     "outputs_hidden": true
    },
    "tags": []
   },
   "outputs": [],
   "source": [
    "sarimax_lat = SARIMAX(lat, order=(1,0,0), seasonal_order=(1, 1, 1, 24)).fit(disp=False)\n",
    "pred_lat = sarimax_lat.predict(start=lat_tc.index[0], end=lat_tc.index[-1])\n",
    "pred_lat_comp = pred_lat[pred_lat.index.isin(unix_min_te)]\n",
    "\n",
    "sarimax_lon = SARIMAX(lon, order=(1,0,0), seasonal_order=(1, 1, 1, 24)).fit(disp=False)\n",
    "pred_lon = sarimax_lon.predict(start=lon_tc.index[0], end=lon_tc.index[-1])\n",
    "pred_lon_comp = pred_lon[pred_lon.index.isin(unix_min_te)]"
   ]
  },
  {
   "cell_type": "code",
   "execution_count": null,
   "id": "1c65ace0-ec7a-4da4-b74b-31656e27f705",
   "metadata": {},
   "outputs": [],
   "source": [
    "f, (ax1, ax2) = plt.subplots(2, 1, constrained_layout = True)\n",
    "ax1.plot(range(len(lat)), lat, label='train', linewidth=2)\n",
    "ax1.plot(range(len(lat), len(lat)+len(lat_tc)), lat_tc, label='test', linewidth=2)\n",
    "ax1.plot(range(len(lat), len(lat)+len(pred_lat_comp)), pred_lat_comp, label='pred', linewidth=3)\n",
    "\n",
    "ax2.plot(range(len(lon)), lon, label='train', linewidth=2)\n",
    "ax2.plot(range(len(lon), len(lon)+len(lon_tc)), lon_tc, label='test', linewidth=2)\n",
    "ax2.plot(range(len(lon), len(lon)+len(pred_lon_comp)), pred_lon_comp, label='pred', linewidth=3)\n",
    "\n",
    "#ax1.legend()\n",
    "plt.show()"
   ]
  },
  {
   "cell_type": "code",
   "execution_count": null,
   "id": "2b1a0f5d-2eef-4d56-8586-ec633bae4ae7",
   "metadata": {},
   "outputs": [],
   "source": [
    "metrics.average_eval(lat_tc, lon_tc, pred_lat_comp, pred_lon_comp)"
   ]
  },
  {
   "cell_type": "code",
   "execution_count": null,
   "id": "f4767e13-35ad-435d-9017-f6ce4a30021e",
   "metadata": {},
   "outputs": [],
   "source": [
    "sarimax_lat.plot_diagnostics()"
   ]
  },
  {
   "cell_type": "code",
   "execution_count": null,
   "id": "1f55a9ed-3a84-4653-8bf0-715ea2790959",
   "metadata": {},
   "outputs": [],
   "source": [
    "tot = lat_t.index[-1] - lat_t.index[0]\n",
    "bin_len = 15\n",
    "pred_amt = int(np.ceil(tot / bin_len))"
   ]
  },
  {
   "attachments": {},
   "cell_type": "markdown",
   "id": "89885e14-643b-435c-af55-20b311696c73",
   "metadata": {},
   "source": [
    "## Deep Learning"
   ]
  },
  {
   "cell_type": "code",
   "execution_count": null,
   "id": "5a0a17f4-0322-47e3-b083-76093546627a",
   "metadata": {},
   "outputs": [],
   "source": [
    "def prepare (y,w):\n",
    "    XX = np.array( [ y[i:i+w] for i in range(len(y)-w) ] )\n",
    "    YY = np.array( y[w:])\n",
    "    return XX, YY\n",
    "\n",
    "window = 100\n",
    "train_x, train_y = prepare(lat, window)\n",
    "test_x, test_y = prepare(lat_tc, window)\n",
    "\n",
    "print (train_x.shape)\n",
    "print (train_y.shape)\n",
    "\n",
    "print (test_x.shape)\n",
    "print (test_y.shape)"
   ]
  },
  {
   "cell_type": "code",
   "execution_count": null,
   "id": "65307075-e702-46b1-be72-d8cdf1869766",
   "metadata": {},
   "outputs": [],
   "source": [
    "np.array([lat[i:i+window] for i in range(len(lat)-window)])\n",
    "\n",
    "train_x"
   ]
  },
  {
   "attachments": {},
   "cell_type": "markdown",
   "id": "cf80ef02-f02f-48aa-bd8d-41275166b33b",
   "metadata": {
    "tags": []
   },
   "source": [
    "### Short Gap Simulation Design\n",
    "* **Assumption**: MCAR (will remove points randomly)\n",
    "* Use trip data only (include trips from the past)\n",
    "* Divide each trip into X-min intervals\n",
    "    + Sensitivity Analysis\n",
    "        - Try 1, 5, 10, 15, 30-min intervals\n",
    "* Introduce sparsity at 10% intervals\n",
    "    + i.e., first remove 10% of the X-min intervals, then 20%, etc.\n",
    "        - Repeat process 10 times at each q to allow for different portions of the data to be removed\n",
    " "
   ]
  },
  {
   "cell_type": "code",
   "execution_count": null,
   "id": "7fb342c2-b9d6-4fe8-9ecf-3fb82daf744a",
   "metadata": {
    "tags": []
   },
   "outputs": [],
   "source": [
    "tau = 5 # bin length\n",
    "sparsity = [0.1, 0.2, 0.3, 0.4, 0.5, 0.6, 0.7, 0.8, 0.9]\n",
    "\n",
    "for i in range(10): # Cross-validation\n",
    "    ### code below\n",
    "    \n",
    "    ###\n",
    "    return  # output?"
   ]
  }
 ],
 "metadata": {
  "kernelspec": {
   "display_name": "Python 3",
   "language": "python",
   "name": "python3"
  },
  "language_info": {
   "codemirror_mode": {
    "name": "ipython",
    "version": 3
   },
   "file_extension": ".py",
   "mimetype": "text/x-python",
   "name": "python",
   "nbconvert_exporter": "python",
   "pygments_lexer": "ipython3",
   "version": "3.9.16"
  },
  "vscode": {
   "interpreter": {
    "hash": "27d8c82720d960df87743be14161e6f7351af57d8b5f04fea83f01e4b383fdff"
   }
  }
 },
 "nbformat": 4,
 "nbformat_minor": 5
}
