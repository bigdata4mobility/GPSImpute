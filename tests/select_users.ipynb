{
 "cells": [
  {
   "cell_type": "code",
   "execution_count": null,
   "id": "56267c88-a4f4-47f6-baba-e24fec5aa951",
   "metadata": {},
   "outputs": [],
   "source": [
    "file_path = \"C:\\\\Users\\\\ekino\\\\OneDrive - UW\\\\GPR\\\\Data\\\\seattle_2000_all_obs.csv\""
   ]
  },
  {
   "cell_type": "code",
   "execution_count": null,
   "id": "4252e3b9-3312-4a6f-94e8-c17ee6e91051",
   "metadata": {},
   "outputs": [],
   "source": [
    "%matplotlib inline\n",
    "#import skmob\n",
    "import pandas as pd\n",
    "#import skmob.measures.individual as ind_measure\n",
    "import torch\n",
    "import gpytorch\n",
    "from gpytorch.kernels import RQKernel as RQ, RBFKernel as SE, \\\n",
    "PeriodicKernel as PER, ScaleKernel, LinearKernel as LIN, MaternKernel as MAT, \\\n",
    "SpectralMixtureKernel as SMK, PiecewisePolynomialKernel as PPK, CylindricalKernel as CYL\n",
    "import numpy as np\n",
    "import matplotlib\n",
    "from matplotlib import pyplot as plt\n",
    "from sklearn.preprocessing import StandardScaler, MinMaxScaler\n",
    "from sklearn.metrics import mean_squared_error\n",
    "from gpytorch.constraints import Interval\n",
    "import time\n",
    "\n",
    "# Import intra-package scripts\n",
    "import utils.helper_func as helper_func\n",
    "import utils.GP as GP\n",
    "import mobileDataToolkit.analysis as analysis\n",
    "import mobileDataToolkit.preprocessing_v2 as preprocessing"
   ]
  },
  {
   "cell_type": "code",
   "execution_count": null,
   "id": "c83e007d-d476-4458-ba5f-35d1bc8cb544",
   "metadata": {},
   "outputs": [],
   "source": [
    "import warnings\n",
    "warnings.filterwarnings('ignore')\n",
    "warnings.simplefilter('ignore')"
   ]
  },
  {
   "cell_type": "code",
   "execution_count": null,
   "id": "0487cb2a-7ba2-4c7e-9e81-b127df29c3fe",
   "metadata": {},
   "outputs": [],
   "source": [
    "df = pd.read_csv(file_path)"
   ]
  },
  {
   "cell_type": "code",
   "execution_count": null,
   "id": "d87fb676",
   "metadata": {},
   "outputs": [],
   "source": [
    "# Check count of observations for each unique user (use groupby)\n",
    "df_grouped = df.groupby('UID').count()['unix_min']"
   ]
  },
  {
   "cell_type": "code",
   "execution_count": null,
   "id": "a8095f19",
   "metadata": {},
   "outputs": [],
   "source": [
    "# Filter out users that do not meet certain criteria\n",
    "# Users with more than 10000 observations\n",
    "df_grouped = df_grouped[df_grouped > 10000]\n",
    "\n",
    "df = df[df['UID'].isin(df_grouped.index)]"
   ]
  },
  {
   "cell_type": "code",
   "execution_count": null,
   "id": "9f972707",
   "metadata": {},
   "outputs": [],
   "source": [
    "# Users with at least 3 months of data\n",
    "df_timeWindow = df.groupby('UID').agg({'unix_min': ['min', 'max']})\n",
    "df_timeWindow = df_timeWindow[df_timeWindow['unix_min']['max'] - df_timeWindow['unix_min']['min'] > 60*24*30*3]\n",
    "\n",
    "df = df[df['UID'].isin(df_timeWindow.index)]"
   ]
  },
  {
   "cell_type": "code",
   "execution_count": null,
   "id": "c268728a",
   "metadata": {},
   "outputs": [],
   "source": [
    "import random\n",
    "# Get unique user IDs\n",
    "user_ids = df['UID'].unique()\n",
    "\n",
    "# Sample 50 users\n",
    "sampled_user_ids = random.sample(list(user_ids), 50)\n",
    "\n",
    "# Filter out users that are not in the sampled list\n",
    "df = df[df['UID'].isin(sampled_user_ids)]"
   ]
  },
  {
   "cell_type": "code",
   "execution_count": null,
   "id": "414d3dd9-5b7e-4497-aadd-0226e5bd9f55",
   "metadata": {},
   "outputs": [],
   "source": [
    "df.columns"
   ]
  },
  {
   "cell_type": "code",
   "execution_count": null,
   "id": "9fe24640-d697-42dc-99e2-441a6b384b48",
   "metadata": {},
   "outputs": [],
   "source": [
    "# Define the new order of the columns\n",
    "new_order = ['UID', 'orig_lat', 'orig_long', 'orig_unc', 'datetime', 'unix_min']\n",
    "\n",
    "# Reorder the columns using the reindex method\n",
    "df = df.reindex(columns=new_order)\n",
    "\n",
    "# Save the dataframe to a new csv file\n",
    "df.to_csv('C:\\\\Users\\\\ekino\\\\OneDrive - UW\\\\GPR\\\\Data\\\\seattle_2000_all_obs_sampled.csv', index=False)"
   ]
  }
 ],
 "metadata": {
  "kernelspec": {
   "display_name": "skmob_alt",
   "language": "python",
   "name": "python3"
  },
  "language_info": {
   "codemirror_mode": {
    "name": "ipython",
    "version": 3
   },
   "file_extension": ".py",
   "mimetype": "text/x-python",
   "name": "python",
   "nbconvert_exporter": "python",
   "pygments_lexer": "ipython3",
   "version": "3.9.16"
  },
  "vscode": {
   "interpreter": {
    "hash": "3be6a4b976e3fc5992cbda345f874ed08629b5aa1a879cf1954f33c2638a941f"
   }
  }
 },
 "nbformat": 4,
 "nbformat_minor": 5
}
